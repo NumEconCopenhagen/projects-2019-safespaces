{
 "cells": [
  {
   "cell_type": "markdown",
   "metadata": {
    "hide_input": true
   },
   "source": [
    "# 15 central calculations"
   ]
  },
  {
   "cell_type": "markdown",
   "metadata": {},
   "source": [
    "The first year course, Discriptive Economics A, presents 15 calculations for doing basic descriptive statistics.\n",
    "This project shows how to conveniently apply these calcuations on selected data from Statistics Denmark to easily see the many calculation done on a short time series.\n",
    "\n",
    "\\begin{align}\n",
    "    \\text{Absolute change: }& x_n - x_0 \\\\\n",
    "    \\text{Average absolute change: }& \\frac{x_n - x_0}{\\text{year } n - \\text{year 0}} \\\\\n",
    "    \\text{Percentage change: }& \\left(\\frac{x_n}{x_0}-1\\right)\\times 100 \\\\\n",
    "    \\text{Average percentage change: }& \\left[\\left(\\frac{x_n}{x_0}\\right)^{\\frac{1}{n}}-1\\right]\\times 100 \\\\\n",
    "    \\text{Annualized growth: }& \\left((1+\\text{percentage growth})^{\\text{4 quarters/12 months}}-1\\right)\\times 100 \\\\\n",
    "    \\text{Over/under average: }& \\left(\\frac{x_{\\text{end of period}}}{\\bar x}-1\\right)\\times 100 \\\\\n",
    "    \\text{Share (current prices): }& \\frac{x_n}{y_n}\\times 100 \\\\\n",
    "    \\text{Change in percentage points: }& \\text{pct.-points}_n - \\text{pct. points}_0 \\\\\n",
    "    \\text{Simple index: }& \\frac{x_n}{x_0}\\times 100 \\\\\n",
    "    \\text{Implicit price index: }& \\left[\\left( \\frac{\\frac{x_n^{\\text{current prices}}}{x_0^{\\text{current prices}}}}{\\frac{y_n^{\\text{real prices}}}{y_0^{\\text{real prices}}}}\\right)-1\\right]\\times 100 \\\\\n",
    "    \\text{Real calculation: }& \\left(\\frac{1+\\text{growth}}{1+\\text{growth in inflation}}-1\\right)\\times 100 \\\\\n",
    "    \\text{Growth contribution: }& \\frac{x_n^i - x_0^i}{\\sum\\limits_{i=1}^k x_0^i} \\times 100 \\\\\n",
    "    \\text{Growth contribution (chained values): }& \\underbrace{\\frac{x_n^i - x_0^i}{\\sum\\limits_{i=1}^k x_0^i}}_{\\text{chained values}} \\times 100 \\times \\underbrace{\\frac{y_0}{\\sum\\limits_{i=1}^k y_0^i}}_{\\text{current prices}} \\\\\n",
    "    \\text{Prodcutivity (avg. yearly growth (employed, present prices): }& \\left[\\left(\\frac{\\frac{\\text{GVA}_n}{\\text{Employed}_n}}{\\frac{\\text{GVA}_0}{\\text{Employed}_0}}\\right)^{\\frac{1}{\\text{year } n - \\text{year 0}}}-1\\right]\\times 100 \\\\\n",
    "    \\text{Prodcutivity (avg. yearly growth (hours, present prices): }& \\left[\\left(\\frac{\\frac{\\text{GVA}_n}{\\text{Hours}_n}}{\\frac{\\text{GVA}_0}{\\text{Hours}_0}}\\right)^{\\frac{1}{\\text{year } n - \\text{year 0}}}-1\\right]\\times 100\n",
    "\\end{align}"
   ]
  },
  {
   "cell_type": "code",
   "execution_count": null,
   "metadata": {},
   "outputs": [],
   "source": []
  },
  {
   "cell_type": "code",
   "execution_count": null,
   "metadata": {},
   "outputs": [],
   "source": []
  }
 ],
 "metadata": {
  "kernelspec": {
   "display_name": "Python 3",
   "language": "python",
   "name": "python3"
  },
  "language_info": {
   "codemirror_mode": {
    "name": "ipython",
    "version": 3
   },
   "file_extension": ".py",
   "mimetype": "text/x-python",
   "name": "python",
   "nbconvert_exporter": "python",
   "pygments_lexer": "ipython3",
   "version": "3.7.2"
  },
  "toc": {
   "base_numbering": 1,
   "nav_menu": {},
   "number_sections": false,
   "sideBar": true,
   "skip_h1_title": false,
   "title_cell": "Table of Contents",
   "title_sidebar": "Contents",
   "toc_cell": false,
   "toc_position": {},
   "toc_section_display": true,
   "toc_window_display": true
  }
 },
 "nbformat": 4,
 "nbformat_minor": 2
}
