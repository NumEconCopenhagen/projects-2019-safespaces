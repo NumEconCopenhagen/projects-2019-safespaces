{
 "cells": [
  {
   "cell_type": "markdown",
   "metadata": {
    "hide_input": true
   },
   "source": [
    "# 6 of 15 central calculations"
   ]
  },
  {
   "cell_type": "markdown",
   "metadata": {},
   "source": [
    "The first year course, Descriptive Economics A, presents 15 calculations for doing basic descriptive statistics.\n",
    "This project shows how to conveniently apply these calcuations on selected data from Statistics Denmark to easily see the many calculation done on a short time series. We have selected six of these 15 calculations to describe the change in expenditure and income in the public sector (OFF3).\n",
    "\n",
    "\\begin{align}\n",
    "    \\text{Absolute change: }& x_t - x_{t-1} \\\\\n",
    "    \\text{Average absolute change: }& \\frac{x_n - x_0}{n} \\\\\n",
    "    \\text{Percentage change: }& \\left(\\frac{x_t}{x_{t-1}}-1\\right)\\times 100 \\\\\n",
    "    \\text{Average percentage change: }& \\left[\\left(\\frac{x_n}{x_0}\\right)^{\\frac{1}{n}}-1\\right]\\times 100 \\\\\n",
    "    \\text{Change in percentage points: }& \\text{pct.-points}_t - \\text{pct. points}_{t-1} \\\\\n",
    "    \\text{Simple index: }& \\frac{x_t}{x_0}\\times 100 \\\\\n",
    "\\end{align}"
   ]
  },
  {
   "cell_type": "markdown",
   "metadata": {},
   "source": [
    "## Importing modules"
   ]
  },
  {
   "cell_type": "code",
   "execution_count": 1,
   "metadata": {
    "hide_input": false
   },
   "outputs": [],
   "source": [
    "import numpy as np\n",
    "import matplotlib.pyplot as plt\n",
    "import pandas as pd\n",
    "import pydst\n",
    "import pprint as pp\n",
    "import ipywidgets as widgets\n",
    "from ipywidgets import interactive\n",
    "dst = pydst.Dst(lang='en')"
   ]
  },
  {
   "cell_type": "markdown",
   "metadata": {},
   "source": [
    "## Collecting data"
   ]
  },
  {
   "cell_type": "code",
   "execution_count": 2,
   "metadata": {},
   "outputs": [],
   "source": [
    "variables = dst.get_variables(table_id = 'OFF3') # collecting table OFF3 from Statistics Denmark\n",
    "OFF3 = dst.get_data(table_id = 'OFF3', variables={'UI':['1.8','1.13','1.16','1.17','2.13','2.16','2.17','2.18',\n",
    "                                                        '2.19'], # sub-categories\n",
    "                                                  'Tid':['*'], # all time\n",
    "                                                  'SEKTOR':['TOTAL']}) # total public sector\n",
    "OFF3.sort_values(by = 'TID', inplace = True)"
   ]
  },
  {
   "cell_type": "markdown",
   "metadata": {},
   "source": [
    "## Cleaning data"
   ]
  },
  {
   "cell_type": "code",
   "execution_count": 3,
   "metadata": {},
   "outputs": [],
   "source": [
    "del OFF3['SEKTOR'] # deleting irrelevant variable\n",
    "names = OFF3['UI'][0:9] # generating names variable based on different sub-categories\n",
    "\n",
    "# Renaming variables\n",
    "columns_dict = {}\n",
    "columns_dict['UI'] = 'Variable'\n",
    "columns_dict['TID'] = 'Time'\n",
    "columns_dict['INDHOLD'] = 'm DKK'\n",
    "OFF3.rename(columns = columns_dict,inplace=True)"
   ]
  },
  {
   "cell_type": "code",
   "execution_count": 4,
   "metadata": {},
   "outputs": [],
   "source": [
    "# Initialize empty dictionary\n",
    "rename_dict = {}\n",
    "# List of wanted names\n",
    "wanted_names = ['1.2: Capital accumulation',\n",
    "                '1.3: Capital expenses',\n",
    "                '1.4: Current and capital expenditure (1+3)',\n",
    "                '1.1: Current expenditure',\n",
    "                '2.1: Current revenue',\n",
    "                '2.2: Capital revenue',\n",
    "                '2.3: Current plus capital revenue (1+2)',\n",
    "                '2.4: Currents surplus=Gross saving (2.1-1.1)',\n",
    "                '2.5: Overall surplus=Net lending/borrowing (2.3-1.4)']\n",
    "# Create rename dictionary for variable names\n",
    "for name, wantedname in zip(names,wanted_names):\n",
    "    rename_dict[name] = wantedname\n",
    "# Rename the variables\n",
    "for key,value in rename_dict.items():\n",
    "    OFF3.Variable.replace(key, value, inplace=True)"
   ]
  },
  {
   "cell_type": "markdown",
   "metadata": {},
   "source": [
    "### Create subsetting boleans"
   ]
  },
  {
   "cell_type": "code",
   "execution_count": 5,
   "metadata": {},
   "outputs": [],
   "source": [
    "# Initializes list of lists for subsetting\n",
    "Ilist = [[] for eachlist in range(9)]"
   ]
  },
  {
   "cell_type": "code",
   "execution_count": 6,
   "metadata": {
    "scrolled": false
   },
   "outputs": [],
   "source": [
    "# List i in Ilist is the true/false boolean for name i in wanted_names\n",
    "for number, name in enumerate(wanted_names):\n",
    "    Ilist[number] = OFF3['Variable']==name"
   ]
  },
  {
   "cell_type": "code",
   "execution_count": 7,
   "metadata": {},
   "outputs": [
    {
     "name": "stdout",
     "output_type": "stream",
     "text": [
      "Index 0: Capital accumulation\n",
      "Index 1: Capital expenses\n",
      "Index 2: Current and capital expenditure (1+3)\n",
      "Index 3: Current expenditure\n",
      "Index 4: Current revenue\n",
      "Index 5: Capital revenue\n",
      "Index 6: Current plus capital revenue (1+2)\n",
      "Index 7: Currents surplus=Gross saving (2.1-1.1)\n",
      "Index 8: Overall surplus=Net lending/borrowing (2.3-1.4)\n"
     ]
    }
   ],
   "source": [
    "# Print index of each variable\n",
    "for number, i in enumerate(wanted_names):\n",
    "    print(f'Index {number}: {i[5:]}')"
   ]
  },
  {
   "cell_type": "code",
   "execution_count": 8,
   "metadata": {},
   "outputs": [],
   "source": [
    "names = ['capital_accumulation', 'capital_expenses', 'current_and_capital_expenditure',\n",
    "         'current_expenditure', 'current_revenue', 'capital_revenue',\n",
    "         'current_plus_capital_revenue', 'current_surplus', 'overall_surpluss']\n",
    "for i, name in enumerate(names):\n",
    "    namespace = locals()\n",
    "    namespace[name] = (OFF3[Ilist[i]])"
   ]
  },
  {
   "cell_type": "code",
   "execution_count": 9,
   "metadata": {},
   "outputs": [],
   "source": [
    "dataframes = [capital_accumulation, capital_expenses, current_and_capital_expenditure,\n",
    "              current_expenditure, current_revenue, capital_revenue,\n",
    "              current_plus_capital_revenue, current_surplus, overall_surpluss]\n",
    "\n",
    "# Resetting index\n",
    "for i in dataframes:\n",
    "    i.reset_index(drop = True, inplace = True)"
   ]
  },
  {
   "cell_type": "markdown",
   "metadata": {},
   "source": [
    "## Calculations"
   ]
  },
  {
   "cell_type": "markdown",
   "metadata": {},
   "source": [
    "We can now make each calculation, (1)-(6), on every data frame as a new variable."
   ]
  },
  {
   "cell_type": "code",
   "execution_count": 10,
   "metadata": {
    "scrolled": false
   },
   "outputs": [
    {
     "name": "stderr",
     "output_type": "stream",
     "text": [
      "/anaconda3/lib/python3.7/site-packages/ipykernel_launcher.py:4: SettingWithCopyWarning: \n",
      "A value is trying to be set on a copy of a slice from a DataFrame.\n",
      "Try using .loc[row_indexer,col_indexer] = value instead\n",
      "\n",
      "See the caveats in the documentation: http://pandas.pydata.org/pandas-docs/stable/indexing.html#indexing-view-versus-copy\n",
      "  after removing the cwd from sys.path.\n",
      "/anaconda3/lib/python3.7/site-packages/ipykernel_launcher.py:7: SettingWithCopyWarning: \n",
      "A value is trying to be set on a copy of a slice from a DataFrame.\n",
      "Try using .loc[row_indexer,col_indexer] = value instead\n",
      "\n",
      "See the caveats in the documentation: http://pandas.pydata.org/pandas-docs/stable/indexing.html#indexing-view-versus-copy\n",
      "  import sys\n",
      "/anaconda3/lib/python3.7/site-packages/ipykernel_launcher.py:10: SettingWithCopyWarning: \n",
      "A value is trying to be set on a copy of a slice from a DataFrame.\n",
      "Try using .loc[row_indexer,col_indexer] = value instead\n",
      "\n",
      "See the caveats in the documentation: http://pandas.pydata.org/pandas-docs/stable/indexing.html#indexing-view-versus-copy\n",
      "  # Remove the CWD from sys.path while we load stuff.\n",
      "/anaconda3/lib/python3.7/site-packages/ipykernel_launcher.py:13: SettingWithCopyWarning: \n",
      "A value is trying to be set on a copy of a slice from a DataFrame.\n",
      "Try using .loc[row_indexer,col_indexer] = value instead\n",
      "\n",
      "See the caveats in the documentation: http://pandas.pydata.org/pandas-docs/stable/indexing.html#indexing-view-versus-copy\n",
      "  del sys.path[0]\n",
      "/anaconda3/lib/python3.7/site-packages/ipykernel_launcher.py:16: SettingWithCopyWarning: \n",
      "A value is trying to be set on a copy of a slice from a DataFrame.\n",
      "Try using .loc[row_indexer,col_indexer] = value instead\n",
      "\n",
      "See the caveats in the documentation: http://pandas.pydata.org/pandas-docs/stable/indexing.html#indexing-view-versus-copy\n",
      "  app.launch_new_instance()\n",
      "/anaconda3/lib/python3.7/site-packages/ipykernel_launcher.py:19: SettingWithCopyWarning: \n",
      "A value is trying to be set on a copy of a slice from a DataFrame.\n",
      "Try using .loc[row_indexer,col_indexer] = value instead\n",
      "\n",
      "See the caveats in the documentation: http://pandas.pydata.org/pandas-docs/stable/indexing.html#indexing-view-versus-copy\n",
      "/anaconda3/lib/python3.7/site-packages/ipykernel_launcher.py:22: SettingWithCopyWarning: \n",
      "A value is trying to be set on a copy of a slice from a DataFrame\n",
      "\n",
      "See the caveats in the documentation: http://pandas.pydata.org/pandas-docs/stable/indexing.html#indexing-view-versus-copy\n",
      "/anaconda3/lib/python3.7/site-packages/IPython/core/interactiveshell.py:3267: SettingWithCopyWarning: \n",
      "A value is trying to be set on a copy of a slice from a DataFrame\n",
      "\n",
      "See the caveats in the documentation: http://pandas.pydata.org/pandas-docs/stable/indexing.html#indexing-view-versus-copy\n",
      "  exec(code_obj, self.user_global_ns, self.user_ns)\n"
     ]
    }
   ],
   "source": [
    "for i in dataframes:\n",
    "    \n",
    "    # Absolute change\n",
    "    i['Absolute change'] = i['m DKK'].diff()\n",
    "    \n",
    "    # Average absolute change\n",
    "    i['Mean'] = i['m DKK'].mean()\n",
    "    \n",
    "    # Percentage change\n",
    "    i['Pct. change'] = i['m DKK'].pct_change()*100\n",
    "    \n",
    "    # Average percentage change\n",
    "    i['Avg. pct. change'] = ((i['m DKK'].iloc[-1]/i['m DKK'][0])**(1/len(i['m DKK']))-1)*100\n",
    "    \n",
    "    # Change in percentage points\n",
    "    i['Change in pct. points'] = i['Pct. change'].diff()\n",
    "    \n",
    "    # Simple index\n",
    "    i['Simple index'] = np.nan # Create 'Simple index'-variable with NaNs\n",
    "    \n",
    "    for j in range(0, len(i['m DKK'])):\n",
    "        i['Simple index'][j] = i['m DKK'].iloc[j]/i['m DKK'].iloc[0]*100"
   ]
  },
  {
   "cell_type": "code",
   "execution_count": null,
   "metadata": {},
   "outputs": [],
   "source": []
  }
 ],
 "metadata": {
  "kernelspec": {
   "display_name": "Python 3",
   "language": "python",
   "name": "python3"
  },
  "language_info": {
   "codemirror_mode": {
    "name": "ipython",
    "version": 3
   },
   "file_extension": ".py",
   "mimetype": "text/x-python",
   "name": "python",
   "nbconvert_exporter": "python",
   "pygments_lexer": "ipython3",
   "version": "3.7.2"
  },
  "toc": {
   "base_numbering": 1,
   "nav_menu": {},
   "number_sections": false,
   "sideBar": true,
   "skip_h1_title": false,
   "title_cell": "Table of Contents",
   "title_sidebar": "Contents",
   "toc_cell": false,
   "toc_position": {},
   "toc_section_display": true,
   "toc_window_display": true
  }
 },
 "nbformat": 4,
 "nbformat_minor": 2
}
