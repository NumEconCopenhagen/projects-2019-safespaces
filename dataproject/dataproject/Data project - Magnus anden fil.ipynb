{
 "cells": [
  {
   "cell_type": "markdown",
   "metadata": {
    "hide_input": true
   },
   "source": [
    "# 6 of 15 central calculations"
   ]
  },
  {
   "cell_type": "markdown",
   "metadata": {},
   "source": [
    "The first year course, Descriptive Economics A, presents 15 calculations for doing basic descriptive statistics.\n",
    "This project shows how to conveniently apply these calcuations on selected data from Statistics Denmark to easily see the many calculation done on a short time series. We have selected six of these 15 calculations to describe the change in expenditure and income in the public sector (OFF3).\n",
    "\n",
    "\\begin{align}\n",
    "    \\text{Absolute change: }& x_t - x_{t-1} \\\\\n",
    "    \\text{Average absolute change: }& \\frac{x_n - x_0}{n} \\\\\n",
    "    \\text{Percentage change: }& \\left(\\frac{x_t}{x_{t-1}}-1\\right)\\times 100 \\\\\n",
    "    \\text{Average percentage change: }& \\left[\\left(\\frac{x_n}{x_0}\\right)^{\\frac{1}{n}}-1\\right]\\times 100 \\\\\n",
    "    \\text{Change in percentage points: }& \\text{pct.-points}_t - \\text{pct. points}_{t-1} \\\\\n",
    "    \\text{Simple index: }& \\frac{x_t}{x_0}\\times 100 \\\\\n",
    "\\end{align}"
   ]
  },
  {
   "cell_type": "markdown",
   "metadata": {},
   "source": [
    "## Importing modules"
   ]
  },
  {
   "cell_type": "code",
   "execution_count": 52,
   "metadata": {
    "hide_input": false
   },
   "outputs": [],
   "source": [
    "import numpy as np\n",
    "import matplotlib.pyplot as plt\n",
    "import pandas as pd\n",
    "import pydst\n",
    "import pprint as pp\n",
    "import ipywidgets as widgets\n",
    "from ipywidgets import interact\n",
    "dst = pydst.Dst(lang='en')"
   ]
  },
  {
   "cell_type": "markdown",
   "metadata": {},
   "source": [
    "## Collecting data"
   ]
  },
  {
   "cell_type": "code",
   "execution_count": 53,
   "metadata": {},
   "outputs": [],
   "source": [
    "variables = dst.get_variables(table_id = 'OFF3') # collecting table OFF3 from Statistics Denmark\n",
    "OFF3 = dst.get_data(table_id = 'OFF3', variables={'UI':['1.8','1.13','1.16','1.17','2.13','2.16','2.17','2.18',\n",
    "                                                        '2.19'], # sub-categories\n",
    "                                                  'Tid':['*'], # all time\n",
    "                                                  'SEKTOR':['TOTAL']}) # total public sector\n",
    "OFF3.sort_values(by = 'TID', inplace = True)"
   ]
  },
  {
   "cell_type": "markdown",
   "metadata": {},
   "source": [
    "## Cleaning data"
   ]
  },
  {
   "cell_type": "code",
   "execution_count": 54,
   "metadata": {},
   "outputs": [],
   "source": [
    "del OFF3['SEKTOR'] # deleting irrelevant variable\n",
    "names = OFF3['UI'][0:9] # generating names variable based on different sub-categories\n",
    "\n",
    "# Renaming variables\n",
    "columns_dict = {}\n",
    "columns_dict['UI'] = 'Variable'\n",
    "columns_dict['TID'] = 'Time'\n",
    "columns_dict['INDHOLD'] = 'Absolute level'\n",
    "OFF3.rename(columns = columns_dict,inplace=True)"
   ]
  },
  {
   "cell_type": "code",
   "execution_count": 55,
   "metadata": {},
   "outputs": [],
   "source": [
    "# Initialize empty dictionary\n",
    "rename_dict = {}\n",
    "# List of wanted names\n",
    "wanted_names = ['1.2: Capital accumulation',\n",
    "                '1.3: Capital expenses',\n",
    "                '1.4: Current and capital expenditure (1+3)',\n",
    "                '1.1: Current expenditure',\n",
    "                '2.1: Current revenue',\n",
    "                '2.2: Capital revenue',\n",
    "                '2.3: Current plus capital revenue (1+2)',\n",
    "                '2.4: Currents surplus=Gross saving (2.1-1.1)',\n",
    "                '2.5: Overall surplus=Net lending/borrowing (2.3-1.4)']\n",
    "# Create rename dictionary for variable names\n",
    "for name, wantedname in zip(names,wanted_names):\n",
    "    rename_dict[name] = wantedname\n",
    "# Rename the variables\n",
    "for key,value in rename_dict.items():\n",
    "    OFF3.Variable.replace(key, value, inplace=True)"
   ]
  },
  {
   "cell_type": "markdown",
   "metadata": {},
   "source": [
    "### Create subsetting booleans"
   ]
  },
  {
   "cell_type": "code",
   "execution_count": 56,
   "metadata": {},
   "outputs": [],
   "source": [
    "# Initializes list of lists for subsetting\n",
    "Ilist = [[] for eachlist in range(9)]"
   ]
  },
  {
   "cell_type": "code",
   "execution_count": 57,
   "metadata": {
    "scrolled": false
   },
   "outputs": [],
   "source": [
    "# List i in Ilist is the true/false boolean for name i in wanted_names\n",
    "for number, name in enumerate(wanted_names):\n",
    "    Ilist[number] = OFF3['Variable']==name"
   ]
  },
  {
   "cell_type": "code",
   "execution_count": 58,
   "metadata": {},
   "outputs": [],
   "source": [
    "names = ['capital_accumulation', 'capital_expenses', 'current_and_capital_expenditure',\n",
    "         'current_expenditure', 'current_revenue', 'capital_revenue',\n",
    "         'current_plus_capital_revenue', 'current_surplus', 'overall_surplus']\n",
    "for i, name in enumerate(names):\n",
    "    namespace = locals()\n",
    "    namespace[name] = (OFF3[Ilist[i]])"
   ]
  },
  {
   "cell_type": "code",
   "execution_count": 59,
   "metadata": {},
   "outputs": [],
   "source": [
    "dataframes = [capital_accumulation, capital_expenses, current_and_capital_expenditure,\n",
    "              current_expenditure, current_revenue, capital_revenue,\n",
    "              current_plus_capital_revenue, current_surplus, overall_surplus]\n",
    "\n",
    "# Resetting index\n",
    "for i in dataframes:\n",
    "    i.reset_index(drop = True, inplace = True)"
   ]
  },
  {
   "cell_type": "markdown",
   "metadata": {},
   "source": [
    "## Calculations"
   ]
  },
  {
   "cell_type": "markdown",
   "metadata": {},
   "source": [
    "We can now make each calculation, (1)-(6), on every data frame as a new variable."
   ]
  },
  {
   "cell_type": "code",
   "execution_count": 60,
   "metadata": {
    "scrolled": true
   },
   "outputs": [
    {
     "name": "stderr",
     "output_type": "stream",
     "text": [
      "C:\\Users\\malin\\Anaconda3\\lib\\site-packages\\ipykernel_launcher.py:4: SettingWithCopyWarning: \n",
      "A value is trying to be set on a copy of a slice from a DataFrame.\n",
      "Try using .loc[row_indexer,col_indexer] = value instead\n",
      "\n",
      "See the caveats in the documentation: http://pandas.pydata.org/pandas-docs/stable/indexing.html#indexing-view-versus-copy\n",
      "  after removing the cwd from sys.path.\n",
      "C:\\Users\\malin\\Anaconda3\\lib\\site-packages\\ipykernel_launcher.py:7: SettingWithCopyWarning: \n",
      "A value is trying to be set on a copy of a slice from a DataFrame.\n",
      "Try using .loc[row_indexer,col_indexer] = value instead\n",
      "\n",
      "See the caveats in the documentation: http://pandas.pydata.org/pandas-docs/stable/indexing.html#indexing-view-versus-copy\n",
      "  import sys\n",
      "C:\\Users\\malin\\Anaconda3\\lib\\site-packages\\ipykernel_launcher.py:10: SettingWithCopyWarning: \n",
      "A value is trying to be set on a copy of a slice from a DataFrame.\n",
      "Try using .loc[row_indexer,col_indexer] = value instead\n",
      "\n",
      "See the caveats in the documentation: http://pandas.pydata.org/pandas-docs/stable/indexing.html#indexing-view-versus-copy\n",
      "  # Remove the CWD from sys.path while we load stuff.\n",
      "C:\\Users\\malin\\Anaconda3\\lib\\site-packages\\ipykernel_launcher.py:13: SettingWithCopyWarning: \n",
      "A value is trying to be set on a copy of a slice from a DataFrame.\n",
      "Try using .loc[row_indexer,col_indexer] = value instead\n",
      "\n",
      "See the caveats in the documentation: http://pandas.pydata.org/pandas-docs/stable/indexing.html#indexing-view-versus-copy\n",
      "  del sys.path[0]\n",
      "C:\\Users\\malin\\Anaconda3\\lib\\site-packages\\ipykernel_launcher.py:16: SettingWithCopyWarning: \n",
      "A value is trying to be set on a copy of a slice from a DataFrame.\n",
      "Try using .loc[row_indexer,col_indexer] = value instead\n",
      "\n",
      "See the caveats in the documentation: http://pandas.pydata.org/pandas-docs/stable/indexing.html#indexing-view-versus-copy\n",
      "  app.launch_new_instance()\n",
      "C:\\Users\\malin\\Anaconda3\\lib\\site-packages\\ipykernel_launcher.py:19: SettingWithCopyWarning: \n",
      "A value is trying to be set on a copy of a slice from a DataFrame.\n",
      "Try using .loc[row_indexer,col_indexer] = value instead\n",
      "\n",
      "See the caveats in the documentation: http://pandas.pydata.org/pandas-docs/stable/indexing.html#indexing-view-versus-copy\n",
      "C:\\Users\\malin\\Anaconda3\\lib\\site-packages\\ipykernel_launcher.py:22: SettingWithCopyWarning: \n",
      "A value is trying to be set on a copy of a slice from a DataFrame\n",
      "\n",
      "See the caveats in the documentation: http://pandas.pydata.org/pandas-docs/stable/indexing.html#indexing-view-versus-copy\n"
     ]
    }
   ],
   "source": [
    "for i in dataframes:\n",
    "    \n",
    "    # Absolute change\n",
    "    i['Absolute change'] = i['Absolute level'].diff()\n",
    "    \n",
    "    # Average absolute change\n",
    "    i['Average absolute change'] = i['Absolute level'].mean()\n",
    "    \n",
    "    # Percentage change\n",
    "    i['Percentage change'] = i['Absolute level'].pct_change()*100\n",
    "    \n",
    "    # Average percentage change\n",
    "    i['Average percentage change'] = ((i['Absolute level'].iloc[-1]/i['Absolute level'][0])**(1/len(i['Absolute level']))-1)*100\n",
    "    \n",
    "    # Change in percentage points\n",
    "    i['Change in percentage points'] = i['Percentage change'].diff()\n",
    "    \n",
    "    # Simple index\n",
    "    i['Simple index'] = np.nan # Create 'Simple index'-variable with NaNs\n",
    "    \n",
    "    for j in range(0, len(i['Absolute level'])):\n",
    "        i['Simple index'][j] = i['Absolute level'].iloc[j]/i['Absolute level'].iloc[0]*100"
   ]
  },
  {
   "cell_type": "markdown",
   "metadata": {},
   "source": [
    "## Plotting the data"
   ]
  },
  {
   "cell_type": "code",
   "execution_count": 75,
   "metadata": {},
   "outputs": [
    {
     "data": {
      "application/vnd.jupyter.widget-view+json": {
       "model_id": "eb01856b581d43c4a390bfc7893b4922",
       "version_major": 2,
       "version_minor": 0
      },
      "text/plain": [
       "interactive(children=(Dropdown(description='Calculation', options=('Absolute level', 'Absolute change', 'Avera…"
      ]
     },
     "metadata": {},
     "output_type": "display_data"
    },
    {
     "data": {
      "text/plain": [
       "<function __main__.view2(x, df)>"
      ]
     },
     "execution_count": 75,
     "metadata": {},
     "output_type": "execute_result"
    }
   ],
   "source": [
    "rows = ['Absolute level', 'Absolute change', 'Average absolute change', 'Percentage change',\n",
    "        'Average percentage change', 'Change in percentage points', 'Simple index']\n",
    "\n",
    "data_names = ['Capital accumulation', 'Capital expenses', 'Current and capital expenditure',\n",
    "             'Current expenditure', 'Current revenue', 'Capital revenue', \n",
    "             'Current plus capital revenue', 'Current surplus', 'Overall surplus']\n",
    "\n",
    "inputoutput = {'Capital accumulation':0, 'Capital expenses':1, 'Current and capital expenditure':2,\n",
    "             'Current expenditure':3, 'Current revenue':4, 'Capital revenue':5, \n",
    "             'Current plus capital revenue':6, 'Current surplus':7, 'Overall surplus':8}\n",
    "\n",
    "def view2(x, df):\n",
    "    if x == 'Average absolute change':\n",
    "        result = print(f'The {x.lower()} of {df.lower()} is {dataframes[inputoutput[df]][x][3]:.0f} m. DKK per year.')\n",
    "    elif x == 'Average percentage change':\n",
    "        result = print(f'The {x.lower()} of {df.lower()} is {dataframes[inputoutput[df]][x][3]:.2f} percent per year.')\n",
    "    else:\n",
    "        plt.plot(dataframes[inputoutput[df]]['Time'], dataframes[inputoutput[df]][x])\n",
    "        if x == 'Percentage change':\n",
    "            plt.ylabel(f'{x} (%)')\n",
    "        elif x == 'Change in percentage points':\n",
    "            plt.ylabel(f'{x} (%-points)')\n",
    "        else:\n",
    "            plt.ylabel(f'{x} (m. DKK)')\n",
    "        plt.xlabel(f'Year')\n",
    "        plt.title(f'Figure: {df}')\n",
    "        result = plt.show()\n",
    "    return result\n",
    "x1 = widgets.Dropdown(options=rows, description='Calculation')\n",
    "df1 = widgets.Dropdown(options=data_names,value='Capital accumulation', description='Data set')\n",
    "interact(view2, x=x1,df=df1)"
   ]
  },
  {
   "cell_type": "code",
   "execution_count": null,
   "metadata": {},
   "outputs": [],
   "source": []
  }
 ],
 "metadata": {
  "kernelspec": {
   "display_name": "Python 3",
   "language": "python",
   "name": "python3"
  },
  "language_info": {
   "codemirror_mode": {
    "name": "ipython",
    "version": 3
   },
   "file_extension": ".py",
   "mimetype": "text/x-python",
   "name": "python",
   "nbconvert_exporter": "python",
   "pygments_lexer": "ipython3",
   "version": "3.6.8"
  },
  "toc": {
   "base_numbering": 1,
   "nav_menu": {},
   "number_sections": false,
   "sideBar": true,
   "skip_h1_title": false,
   "title_cell": "Table of Contents",
   "title_sidebar": "Contents",
   "toc_cell": false,
   "toc_position": {},
   "toc_section_display": true,
   "toc_window_display": true
  }
 },
 "nbformat": 4,
 "nbformat_minor": 2
}
