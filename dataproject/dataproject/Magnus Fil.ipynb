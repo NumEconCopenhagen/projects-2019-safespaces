{
 "cells": [
  {
   "cell_type": "markdown",
   "metadata": {},
   "source": [
    "# Importing Modules"
   ]
  },
  {
   "cell_type": "code",
   "execution_count": 197,
   "metadata": {},
   "outputs": [],
   "source": [
    "import numpy as np\n",
    "import matplotlib.pyplot as plt\n",
    "import pandas as pd\n",
    "import pydst\n",
    "import pprint as pp\n",
    "dst = pydst.Dst(lang='en')"
   ]
  },
  {
   "cell_type": "markdown",
   "metadata": {},
   "source": [
    "# Importing Data"
   ]
  },
  {
   "cell_type": "code",
   "execution_count": 198,
   "metadata": {},
   "outputs": [],
   "source": [
    "variables = dst.get_variables(table_id = 'OFF3K')"
   ]
  },
  {
   "cell_type": "code",
   "execution_count": 199,
   "metadata": {},
   "outputs": [],
   "source": [
    "# pp.pprint(variables['values'][0])"
   ]
  },
  {
   "cell_type": "code",
   "execution_count": 200,
   "metadata": {},
   "outputs": [],
   "source": [
    "OFF3K = dst.get_data(table_id = 'OFF3K', variables={'UI':['1.8','1.13','1.16','1.17','2.13','2.16','2.17','2.18','2.19'],'Tid':['*']})"
   ]
  },
  {
   "cell_type": "code",
   "execution_count": 201,
   "metadata": {},
   "outputs": [],
   "source": [
    "# pp.pprint(OFF3K['UI'][0:9])"
   ]
  },
  {
   "cell_type": "code",
   "execution_count": 202,
   "metadata": {},
   "outputs": [],
   "source": [
    "names = OFF3K['UI'][0:9]"
   ]
  },
  {
   "cell_type": "markdown",
   "metadata": {},
   "source": [
    "# Cleaning Data"
   ]
  },
  {
   "cell_type": "code",
   "execution_count": 203,
   "metadata": {},
   "outputs": [],
   "source": [
    "columns_dict = {}\n",
    "columns_dict['UI'] = 'variable'\n",
    "columns_dict['TID'] = 'time'\n",
    "columns_dict['INDHOLD'] = 'mio. DKK'\n",
    "OFF3K.rename(columns = columns_dict,inplace=True)"
   ]
  },
  {
   "cell_type": "code",
   "execution_count": 204,
   "metadata": {},
   "outputs": [],
   "source": [
    "# Initialize empty dictionary\n",
    "rename_dict = {}\n",
    "# List of wanted names\n",
    "wanted_names = ['1.2: Capital accumulation',\n",
    "                '1.3: Capital expenses',\n",
    "                '1.4: Current and capital expenditure (1+3)',\n",
    "                '1.1: Current expenditure',\n",
    "                '2.1: Current revenue',\n",
    "                '2.2: Capital revenue',\n",
    "                '2.3: Current plus capital revenue (1+2)',\n",
    "                '2.4: Currents surplus=Gross saving (2.1-1.1)',\n",
    "                '2.5: Overall surplus=Net lending/borrowing (2.3-1.4)']\n",
    "# Create rename dictionary for variable names\n",
    "for name, wantedname in zip(names,wanted_names):\n",
    "    rename_dict[name] = wantedname\n",
    "# Rename the variables\n",
    "for key,value in rename_dict.items():\n",
    "    OFF3K.variable.replace(key, value, inplace=True)"
   ]
  },
  {
   "cell_type": "code",
   "execution_count": 206,
   "metadata": {},
   "outputs": [],
   "source": [
    "I = OFF3K['variable']=='1.2: Capital accumulation'"
   ]
  },
  {
   "cell_type": "markdown",
   "metadata": {},
   "source": [
    "## Create subsetting booleans"
   ]
  },
  {
   "cell_type": "code",
   "execution_count": 225,
   "metadata": {},
   "outputs": [],
   "source": [
    "# Initializes list of lists for subsetting\n",
    "Ilist = [[] for eachlist in range(9)]"
   ]
  },
  {
   "cell_type": "code",
   "execution_count": 235,
   "metadata": {},
   "outputs": [],
   "source": [
    "# List i in Ilist is the true/false boolean for name i in wanted_names\n",
    "for number, name in enumerate(wanted_names):\n",
    "    Ilist[number] = OFF3K['variable']==name"
   ]
  },
  {
   "cell_type": "code",
   "execution_count": 287,
   "metadata": {},
   "outputs": [
    {
     "name": "stdout",
     "output_type": "stream",
     "text": [
      "Index 0: Capital accumulation\n",
      "Index 1: Capital expenses\n",
      "Index 2: Current and capital expenditure (1+3)\n",
      "Index 3: Current expenditure\n",
      "Index 4: Current revenue\n",
      "Index 5: Capital revenue\n",
      "Index 6: Current plus capital revenue (1+2)\n",
      "Index 7: Currents surplus=Gross saving (2.1-1.1)\n",
      "Index 8: Overall surplus=Net lending/borrowing (2.3-1.4)\n"
     ]
    }
   ],
   "source": [
    "# For os så vi ved hvilken hører til hvad\n",
    "for number, i in enumerate(wanted_names):\n",
    "    print(f'Index {number}: {i[5:]}')"
   ]
  },
  {
   "cell_type": "code",
   "execution_count": 302,
   "metadata": {},
   "outputs": [],
   "source": [
    "# Med DST indeksering\n",
    "#for number, i in enumerate(wanted_names):\n",
    "#    print(f'Index {number}: {i}')"
   ]
  },
  {
   "cell_type": "code",
   "execution_count": 301,
   "metadata": {},
   "outputs": [],
   "source": [
    "# Bevis for at det faktisk passer\n",
    "#for i in range(9):\n",
    "#    print(OFF3K[Ilist[i]][:1])"
   ]
  },
  {
   "cell_type": "code",
   "execution_count": 300,
   "metadata": {},
   "outputs": [
    {
     "data": {
      "text/plain": [
       "<matplotlib.axes._subplots.AxesSubplot at 0x1faa19cbf28>"
      ]
     },
     "execution_count": 300,
     "metadata": {},
     "output_type": "execute_result"
    },
    {
     "data": {
      "image/png": "[encoded data removed]",
      "text/plain": [
       "<Figure size 432x288 with 1 Axes>"
      ]
     },
     "metadata": {
      "needs_background": "light"
     },
     "output_type": "display_data"
    }
   ],
   "source": [
    "OFF3K[Ilist[8]].plot()"
   ]
  }
 ],
 "metadata": {
  "kernelspec": {
   "display_name": "Python 3",
   "language": "python",
   "name": "python3"
  },
  "language_info": {
   "codemirror_mode": {
    "name": "ipython",
    "version": 3
   },
   "file_extension": ".py",
   "mimetype": "text/x-python",
   "name": "python",
   "nbconvert_exporter": "python",
   "pygments_lexer": "ipython3",
   "version": "3.6.8"
  }
 },
 "nbformat": 4,
 "nbformat_minor": 2
}
