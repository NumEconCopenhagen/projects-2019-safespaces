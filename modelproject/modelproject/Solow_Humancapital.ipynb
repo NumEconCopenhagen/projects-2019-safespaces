{
 "cells": [
  {
   "cell_type": "markdown",
   "metadata": {},
   "source": [
    "# The Solow model with human capital\n",
    "\n",
    "In this model project we solve the Solow model with human capital. This is done with the usual Cobb-Douglas function but we also further extend the model with the CES production function."
   ]
  },
  {
   "cell_type": "markdown",
   "metadata": {},
   "source": [
    "# The model\n",
    "\n",
    "Consider the following Solow model with human capital:\n",
    "\n",
    "\\begin{align}\n",
    "Y_t & = K_t^{\\alpha} H_t ^\\varphi (A_t L_t)^{1-\\alpha}, &0<\\alpha,\\varphi<1, \\ \\alpha+\\varphi < 1 \\\\\n",
    "I_t^K & = s_K Y_t, &0<s_H<1 \\\\\n",
    "I_t^H & = s_H Y_t, &0<s_K<1 \\\\\n",
    "K_{t+1} & = I_t^K + (1-\\delta)K_t, &H_0 \\\\\n",
    "H_{t+1} & = I_t^H + (1-\\delta)K_t, &K_0 \\\\\n",
    "L_{t+1} & = (1+n) L_t, &L_0 \\\\\n",
    "A_{t+1} & = (1+g) A_t, &A_0\n",
    "\\end{align}\n",
    "where $s_h + s_k < 1$.\n",
    "\n",
    "It can be shown that the model can be translated into the following Solow equations:\n",
    "\n",
    "\\begin{align}\n",
    "\\tilde{k}_{t+1} - \\tilde{k}_{t} &= \\frac{1}{(1+n)(1+g)}(s_K\\tilde{k}_t^{\\alpha}\\tilde{h}_t^{\\varphi}-(n+g+\\delta + ng)\\tilde{k}_t) \\\\\n",
    "\\tilde{h}_{t+1} - \\tilde{h}_{t} &= \\frac{1}{(1+n)(1+g)}(s_H\\tilde{k}_t^{\\alpha}\\tilde{h}_t^{\\varphi}-(n+g+\\delta + ng)\\tilde{h}_t),\n",
    "\\end{align}\n",
    "\n",
    "where $\\tilde{k}_t \\equiv \\frac{K_t}{A_t L_t}$ and $\\tilde{h}_t \\equiv \\frac{H_t}{A_t L_t}$. In steady state it must hold that $\\tilde{k}_{t+1}-\\tilde k_t = \\tilde{h}_{t+1} - \\tilde h_t = 0$.\n",
    "We utilize this to solve for the steady state values of real and human capital per effective worker, $\\tilde{k}^*$ and $\\tilde{h}^*$."
   ]
  },
  {
   "cell_type": "markdown",
   "metadata": {},
   "source": [
    "To solve the model in Python, we first import the relevant packages."
   ]
  },
  {
   "cell_type": "code",
   "execution_count": 2,
   "metadata": {},
   "outputs": [],
   "source": [
    "import numpy as np\n",
    "import matplotlib.pyplot as plt\n",
    "import ipywidgets as widgets\n",
    "from scipy import optimize\n",
    "import sympy as sm\n",
    "sm.init_printing(use_unicode=True)\n",
    "from IPython.display import display, Latex, Markdown\n",
    "import ipywidgets as widgets\n",
    "from ipywidgets import interact"
   ]
  },
  {
   "cell_type": "markdown",
   "metadata": {},
   "source": [
    "## Steady state in the Solow model with human capital\n",
    "\n",
    "We can now solve the model analytically using Sympy. First we define the symbols which are to be used. Then we define the two equations $\\tilde{k}_{t+1}=\\tilde k_t = \\tilde k^*$ and $\\tilde{h}_{t+1} = \\tilde h_t = \\tilde h^*$ which are the steady state conditions. Finally, we solve for $\\tilde k_t^*$ and $\\tilde h_t^*$, respectively."
   ]
  },
  {
   "cell_type": "code",
   "execution_count": 3,
   "metadata": {},
   "outputs": [
    {
     "data": {
      "text/markdown": [
       "The steady state value of physical capital per effective worker is $\\ \\tilde k^*= $ $s_{H}^{- \\frac{\\varphi}{\\varphi + \\alpha - 1}} \\left(s_{K}^{\\varphi - 1} \\left(\\delta + g n + g + n\\right)\\right)^{\\frac{1}{\\varphi + \\alpha - 1}}$."
      ],
      "text/plain": [
       "<IPython.core.display.Markdown object>"
      ]
     },
     "metadata": {},
     "output_type": "display_data"
    },
    {
     "data": {
      "text/markdown": [
       "The steady state value of human capital per effective worker is $\\ \\tilde h^*= $ $\\left(\\left(s_{H}^{- \\frac{\\varphi}{\\varphi + \\alpha - 1}} \\left(s_{K}^{\\varphi - 1} \\left(\\delta + g n + g + n\\right)\\right)^{\\frac{1}{\\varphi + \\alpha - 1}}\\right)^{- \\alpha} \\left(\\delta + g n + g + n\\right) / s_{H}\\right)^{\\frac{1}{\\varphi - 1}}$."
      ],
      "text/plain": [
       "<IPython.core.display.Markdown object>"
      ]
     },
     "metadata": {},
     "output_type": "display_data"
    }
   ],
   "source": [
    "# Defining the symbols used\n",
    "sk, sh, alpha, g, delta, n, phi, tilkt, tilkt1, tilht, tilht1 = sm.symbols('s_K s_H alpha g delta n \\\\varphi \\\\tilde{k}_t \\\\tilde{k}_{t+1} \\\\tilde{h}_t \\\\tilde{h}_{t+1}')\n",
    "\n",
    "# Defining the equation for physical capital per effective worker to be solved\n",
    "ss_k = sm.Eq(1/((1+n)*(1+g))*(sk*tilkt**alpha*tilht**phi-(n+g+delta+n*g)*tilkt))\n",
    "\n",
    "# Defining the equation for human capital per effective worker to be solved\n",
    "ss_h = sm.Eq(1/((1+n)*(1+g))*(sh*tilkt**alpha*tilht**phi-(n+g+delta+n*g)*tilht))\n",
    "\n",
    "# Solution for the steady steady state value for ss_k and ss_h\n",
    "ss_sol = sm.solve((ss_k,ss_h),(tilkt,tilht))\n",
    "# Steady state value for ss_k\n",
    "ktilstar = ss_sol[0][0]\n",
    "\n",
    "# Steady state value for ss_h\n",
    "htilstar = ss_sol[0][1]\n",
    "\n",
    "# Latex print of ktilstar\n",
    "display(\n",
    "        Markdown(\n",
    "            r'The steady state value of physical capital per effective worker is $\\ \\tilde k^*= $ {}.'.format(\n",
    "                sm.latex(ktilstar, mode='inline'))))\n",
    "\n",
    "# Latex print of htilstar\n",
    "display(\n",
    "    Markdown(\n",
    "        r'The steady state value of human capital per effective worker is $\\ \\tilde h^*= $ {}.'.format(\n",
    "            sm.latex(htilstar, mode='inline'))))"
   ]
  },
  {
   "cell_type": "markdown",
   "metadata": {},
   "source": [
    "### Parameter calibration\n",
    "\n",
    "In the following section we insert parameters in the steady state solutions, thus giving a numerical solution. By default we will set the paramaters in the derived steady state values as, $\\varphi = \\alpha = \\frac{1}{3}$, $\\delta = 0.05$, $g = n = 0.02$, $s_K = 0.1$ and $s_H = 0.15$. These values can be changed by the user below (given that the parameter restrictions are respected), such that one can see how different parameter values change the steady state values."
   ]
  },
  {
   "cell_type": "code",
   "execution_count": 16,
   "metadata": {},
   "outputs": [
    {
     "data": {
      "application/vnd.jupyter.widget-view+json": {
       "model_id": "6329fbf5e44c46d5aeed19c0791885fe",
       "version_major": 2,
       "version_minor": 0
      },
      "text/plain": [
       "interactive(children=(FloatSlider(value=0.4, continuous_update=False, description='$s_H$', max=0.99, min=0.01,…"
      ]
     },
     "metadata": {},
     "output_type": "display_data"
    },
    {
     "data": {
      "text/plain": [
       "<function __main__.ss_sol_int(sh, phi, alpha, sk, delta, g, n)>"
      ]
     },
     "execution_count": 16,
     "metadata": {},
     "output_type": "execute_result"
    }
   ],
   "source": [
    "# Turn symbols into variables with SymPy's lambdify function\n",
    "_htilstar_sol = sm.lambdify((sh,phi,alpha,sk,delta,g,n),htilstar)\n",
    "_ktilstar_sol = sm.lambdify((sh,phi,alpha,sk,delta,g,n),ktilstar)\n",
    "\n",
    "# Define widget for steady state value\n",
    "def ss_sol_int(sh,phi,alpha,sk,delta,g,n):\n",
    "    \n",
    "    # The sum of the elasticities of human and physical capital AND the sum of the savings rates must be strictly less than 1\n",
    "    if alpha+phi >= 1.0 and sh+sk >= 1.0:\n",
    "        result = display(Latex(\n",
    "            r'$\\alpha + \\varphi$ and $s_H+s_K$ have to be stricly smaller than 1.0')) #print warning\n",
    "    # The sum of the savings' rates must be strictly less than 1\n",
    "    elif sh+sk >= 1.0:\n",
    "        result = display(Latex(\n",
    "            r'$s_H+s_K$ has to be stricly smaller than 1.0')) #print warning\n",
    "    # The elasticities of human and physical capital must som to be strictly less than 1\n",
    "    elif alpha+phi >= 1.0:\n",
    "        result = display(Latex(\n",
    "            r'$\\alpha + \\varphi$ has to be stricly smaller than 1.0')) #print warning \n",
    "    # Stability constraint\n",
    "    elif n+g+delta+n*g <= 0:\n",
    "        result = display(Latex(\n",
    "        r'$n+g+\\delta+ng$ has to be strictly greater than $0$.')) #print warning\n",
    "        \n",
    "    # If all the above conditions are not violated, print result\n",
    "    else:\n",
    "        result = display(Markdown(\n",
    "            r'The steady state value of human capital per effective worker is $\\ \\tilde k^*= $ {}.'.format(\n",
    "            sm.latex(_ktilstar_sol(sh,phi,alpha,sk,delta,g,n), mode='inline'))))\n",
    "        result = display(Markdown(\n",
    "            r'The steady state value of human capital per effective worker is $\\ \\tilde h^*= $ {}.'.format(\n",
    "            sm.latex(_htilstar_sol(sh,phi,alpha,sk,delta,g,n), mode='inline'))))\n",
    "    return result\n",
    "\n",
    "# Make the solution interactive with widget controlling the parameters\n",
    "widgets.interact(ss_sol_int,\n",
    "                 sh = widgets.FloatSlider(description='$s_H$', min=0.01, max=0.99, value=0.4, step=0.01, continuous_update=False),\n",
    "                 phi = widgets.FloatSlider(description='$\\\\varphi$', min=0.01, max=0.99, value=1/3, step=0.01, continuous_update=False),\n",
    "                 alpha = widgets.FloatSlider(description='$\\\\alpha$', min=0.01, max=0.99, value=1/3, step=0.01, continuous_update=False),\n",
    "                 sk = widgets.FloatSlider(description='$s_K$', min=0.01, max=0.99, value=0.4, step=0.01, continuous_update=False),\n",
    "                 delta = widgets.FloatSlider(description='$\\delta$', min=0.0, max=1.0, value=0.05, step=0.01, continuous_update=False),\n",
    "                 g = widgets.FloatSlider(description='$g$', min=-1.0, max=1.0, value=0.02, step=0.01, continuous_update=False),\n",
    "                 n = widgets.FloatSlider(description='$n$', min=-1.0, max=1.0, value=0.02, step=0.01, continuous_update=False)\n",
    "                )"
   ]
  },
  {
   "cell_type": "markdown",
   "metadata": {},
   "source": [
    "## Transition equations and phase diagram\n",
    "\n",
    "In the following section we will derive the transition equations for the physical capital, $\\tilde k_{t+1}$ and human capital, $\\tilde h_{t+1}$."
   ]
  },
  {
   "cell_type": "code",
   "execution_count": 5,
   "metadata": {},
   "outputs": [],
   "source": [
    "# Define transition equations for physical and human capital\n",
    "ktplus1 = (1/((1+n)*(1+g))*(sk*tilkt**alpha*tilht**phi-(n+g+delta+n*g)*tilkt) + tilkt)\n",
    "htplus1 = (1/((1+n)*(1+g))*(sh*tilkt**alpha*tilht**phi-(n+g+delta+n*g)*tilht) + tilht)\n",
    "\n",
    "# Turn into function with inputs using lambdify function from SymPy\n",
    "ktplus1lamb = sm.lambdify((tilkt, tilht, alpha, n, g, sh, sk, delta, phi),ktplus1)\n",
    "htplus1lamb = sm.lambdify((tilkt, tilht, alpha, n, g, sh, sk, delta, phi),htplus1)\n",
    "\n",
    "# Turn lambdify function into Python function with standard parameterization\n",
    "def kt_plus1_func(tilkt,tilht,alpha=1/3,n=0.02,g=0.02,sh=0.4,sk=0.4,delta=0.05,phi=1/3):\n",
    "    return ktplus1lamb(tilkt, tilht, alpha, n, g, sh, sk, delta, phi)\n",
    "def ht_plus1_func(tilkt,tilht,alpha=1/3,n=0.02,g=0.02,sh=0.4,sk=0.4,delta=0.05,phi=1/3):\n",
    "    return htplus1lamb(tilkt, tilht, alpha, n, g, sh, sk, delta, phi)"
   ]
  },
  {
   "cell_type": "markdown",
   "metadata": {},
   "source": [
    "To create the paths where either $\\Delta h_t = h_{t+1}-h_t = 0$ or $\\Delta k_t = k_{t+1}-k_t = 0$, we isolate $h_t$ in both capital accumulation equations. These are the phase equations, i.e. when the Solow equations are set equal to 0."
   ]
  },
  {
   "cell_type": "code",
   "execution_count": 6,
   "metadata": {},
   "outputs": [],
   "source": [
    "# Define Solow equations for physical and human capital\n",
    "solow_kt = (1/((1+n)*(1+g))*(sk*tilkt**alpha*tilht**phi-(n+g+delta+n*g)*tilkt))\n",
    "solow_ht = (1/((1+n)*(1+g))*(sh*tilkt**alpha*tilht**phi-(n+g+delta+n*g)*tilht))\n",
    "\n",
    "# Solve for physical and human capital when Solow equations are equal to 0\n",
    "Delta_kt0 = sm.solve(solow_kt,tilht)\n",
    "Delta_ht0 = sm.solve(solow_ht,tilht)\n",
    "\n",
    "# Turn into function with inputs using lambdify function from SymPy\n",
    "Delta_kt0 = sm.lambdify((tilkt, alpha, n, g, sh, sk, delta, phi),Delta_kt0[0])\n",
    "Delta_ht0 = sm.lambdify((tilkt, alpha, n, g, sh, sk, delta, phi),Delta_ht0[0])\n",
    "\n",
    "# Turn lambdify function into Python function with standard parameterization\n",
    "def Delta_kt0_func(tilkt,alpha=1/3,n=0.02,g=0.02,sh=0.4,sk=0.4,delta=0.05,phi=1/3):\n",
    "    return Delta_kt0(tilkt, alpha, n, g, sh, sk, delta, phi)\n",
    "def Delta_ht0_func(tilkt,alpha=1/3,n=0.02,g=0.02,sh=0.4,sk=0.4,delta=0.05,phi=1/3):\n",
    "    return Delta_ht0(tilkt, alpha, n, g, sh, sk, delta, phi)"
   ]
  },
  {
   "cell_type": "markdown",
   "metadata": {},
   "source": [
    "We create the paths by iterating through a linearly spaced vector (```np.linspace```) from $0.0001$ to $1000$, creating $100000$ evenly spaced numbers.\n",
    "These values are our given $k_t$, and thus we can find both paths."
   ]
  },
  {
   "cell_type": "code",
   "execution_count": 7,
   "metadata": {},
   "outputs": [],
   "source": [
    "# Create plot of convergence to steady state\n",
    "def create_cd_plot(k0cd_list,h0cd_list,alpha, n, g, sh, sk, delta, phi):\n",
    "    \n",
    "    ### Inputs: Lists of k_t and h_t's paths, and parameter values\n",
    "\n",
    "    # Plot both \n",
    "    fig,ax = plt.subplots() # Create plot\n",
    "    plt.plot(k0cd_list,h0cd_list) #plot lists with paths\n",
    "    plt.plot(k0cd_list[-1],h0cd_list[-1], 'bo') #plot point with steady state\n",
    "    #set limits, if the initial values are above steady state, choose these as those who guide the limits\n",
    "    #if the initial values are below steady state, choose steady state values to guide the limits (last element in list)\n",
    "    ax.set_xlim([0,max(k0cd_list[-1]*1.1,h0cd_list[-1]*1.1,k0cd_list[0]*1.1,h0cd_list[0]*1.1)]) #set xlim depending on the largest value\n",
    "    ax.set_ylim([0,max(k0cd_list[-1]*1.1,h0cd_list[-1]*1.1,k0cd_list[0]*1.1,h0cd_list[0]*1.1)]) #set ylim depending on the largest value\n",
    "    ax.set_title('Convergence in the Solow model with CD production function', pad=15) #Set title\n",
    "    ax.set_xlabel('$k_t$') #set xlabel\n",
    "    ax.set_ylabel('$h_t$') #set ylabel\n",
    "    \n",
    "    # Define the linearly spaced vector from 0.0001 to 10000 and make 100000 iterations\n",
    "    x = np.linspace(0.0001,10000,num=100000) \n",
    "    Delta_kt0_list = []\n",
    "    Delta_ht0_list = []\n",
    "    for i in range(0,x.shape[0]):\n",
    "        Delta_kt0_list.append(Delta_kt0_func(x[i],alpha, n, g, sh, sk, delta, phi)) #list where Delta k_t = 0\n",
    "        Delta_ht0_list.append(Delta_ht0_func(x[i],alpha, n, g, sh, sk, delta, phi)) ##list where Delta k_t = 0\n",
    "    \n",
    "    plt.plot(x,Delta_kt0_list) #plot loci\n",
    "    plt.plot(x,Delta_ht0_list) #plot loci\n",
    "    return plt.show() #return plot"
   ]
  },
  {
   "cell_type": "markdown",
   "metadata": {},
   "source": [
    "To make the plot interactive we now define a function, ```interact_CD```, where the user can define the paramters which are to be used. The plot then shows the convergence path."
   ]
  },
  {
   "cell_type": "code",
   "execution_count": 8,
   "metadata": {},
   "outputs": [
    {
     "data": {
      "application/vnd.jupyter.widget-view+json": {
       "model_id": "28869f1c5c934510a972c6a023ca633f",
       "version_major": 2,
       "version_minor": 0
      },
      "text/plain": [
       "interactive(children=(FloatSlider(value=4.0, continuous_update=False, description='$k_0$', max=10.0, min=1.0, …"
      ]
     },
     "metadata": {},
     "output_type": "display_data"
    },
    {
     "data": {
      "text/plain": [
       "<function __main__.interact_CD(k0=10, h0=10, sk=0.2, sh=0.1, alpha=0.3333333333333333, phi=0.3333333333333333, n=0.02, g=0.02, delta=0.05)>"
      ]
     },
     "execution_count": 8,
     "metadata": {},
     "output_type": "execute_result"
    }
   ],
   "source": [
    "# Define interactive part\n",
    "def interact_CD(k0=10, h0=10,sk=0.2,sh=0.1,alpha=1/3,phi=1/3,n=0.02,g=0.02,delta=0.05):\n",
    "    \n",
    "    # Make same conditions as with steady state values\n",
    "    if sk + sh >= 1 and alpha + phi >=  1:\n",
    "        result = display(Latex(r'$\\alpha + \\varphi$ and $s_H + s_K$ has to be strictly less than $1$.')) #print warning\n",
    "    elif alpha + phi >= 1:\n",
    "        result = display(Latex(r'$\\alpha + \\varphi$ has to be stricly less than $1$.')) #print warning\n",
    "    elif sk + sh >= 1:\n",
    "        result = display(Latex(r'$s_H+s_K$ has to be stricly less than $1$.')) #print warning\n",
    "    elif (n + g + delta+n*g) <= 0:\n",
    "        result = display(Latex(r'$n+g+\\delta$ has to be greater than $0$.')) #print warning\n",
    "     \n",
    "    # Else create plot\n",
    "    else:    \n",
    "        \n",
    "        # Initialize lists that will hold all the values of k_t and h_t, starting with k_0 and h_0\n",
    "        k0cd_list = [k0] \n",
    "        h0cd_list = [h0]\n",
    "        # Append k_1 and h_1 to their respective lists. They are calculated using the functions defined earlier, here hardreferencing to the initial values\n",
    "        k0cd_list.append(kt_plus1_func(k0cd_list[0],h0cd_list[0],alpha, n, g, sh, sk, delta, phi))\n",
    "        h0cd_list.append(ht_plus1_func(k0cd_list[0],h0cd_list[0],alpha, n, g, sh, sk, delta, phi))\n",
    "        i = 1 #initialize i for while loop\n",
    "        while i<10000: #while loop that calculates the next values...\n",
    "            if ((np.abs(h0cd_list[-1]-h0cd_list[-2])<0.00001) & (np.abs(k0cd_list[-1]-k0cd_list[-2])<0.00001)): #... unless the error margin has been reach\n",
    "                display(Latex('Convergence archieved!')) #Inform of convergence\n",
    "                result = create_cd_plot(k0cd_list,h0cd_list,alpha, n, g, sh, sk, delta, phi) # As convergence has been reached, create plot\n",
    "                break\n",
    "            elif i==9999: #... or the max iterations have been reached\n",
    "                result = display(Latex('No convergence archieved')) #Inform of no convergence :(\n",
    "                break \n",
    "            else: #If error margin not satisfied and max iter not reached, append new values calculated using function and the last value of the lists, repeat while loop\n",
    "                k0cd_list.append(kt_plus1_func(k0cd_list[i],h0cd_list[i],alpha, n, g, sh, sk, delta, phi)) \n",
    "                h0cd_list.append(ht_plus1_func(k0cd_list[i],h0cd_list[i],alpha, n, g, sh, sk, delta, phi))\n",
    "                i += 1 #increase such that new values are used\n",
    "    return result\n",
    "\n",
    "# Let plot and sliders interact\n",
    "widgets.interact(interact_CD,   \n",
    "            k0    = widgets.FloatSlider(description='$k_0$', min=1, max=10,step=0.25,value=4,continuous_update=False),\n",
    "            h0    = widgets.FloatSlider(description='$h_0$', min=1, max=15,step=0.25,value=6,continuous_update=False),\n",
    "            sk    = widgets.FloatSlider(description='$s_K$', min=0.01, max=0.99,step=0.01,value=0.1,continuous_update=False),\n",
    "            sh    = widgets.FloatSlider(description='$s_H$', min=0.01, max=0.99,step=0.01,value=0.15,continuous_update=False),\n",
    "            alpha = widgets.FloatSlider(description='$\\\\alpha$', min=0, max=0.99,step=0.01,value=1/3,continuous_update=False),\n",
    "            phi   = widgets.FloatSlider(description='$\\\\varphi$', min=0, max=0.99,step=0.01,value=1/3,continuous_update=False),\n",
    "            n     = widgets.FloatSlider(description='$n$', min=-1, max=1,step=0.01,value=0.02,continuous_update=False),\n",
    "            g     = widgets.FloatSlider(description='$g$', min=-1, max=1,step=0.01,value=0.02,continuous_update=False),\n",
    "            delta = widgets.FloatSlider(description='$\\delta$', min=0, max=1,step=0.01,value=0.05,continuous_update=False)\n",
    "                )"
   ]
  },
  {
   "cell_type": "markdown",
   "metadata": {},
   "source": [
    "# The Solow model with human capital and a CES production function\n",
    "\n",
    "In the following section we will extend the Solow model by changing the Cobb-Douglas production function with a CES (constant elasticity of substitution) function. We then have the following model setup.\n",
    "\n",
    "\\begin{align}\n",
    "Y_t & = \\left[\\alpha K_t^{\\frac{\\sigma-1}{\\sigma}}+ \\varphi H_t^{\\frac{\\sigma-1}{\\sigma}} + (1-\\alpha-\\varphi)(A_tL_t)^{\\frac{\\sigma-1}{\\sigma}}\\right]^{\\frac{\\sigma}{\\sigma-1}}, \\ &\\alpha+\\varphi < 1, \\ \\sigma \\geq 0 \\\\\n",
    "I_t^K & = s_K Y_t, &0<s_H<1 \\\\\n",
    "I_t^H & = s_H Y_t, &0<s_K<1 \\\\\n",
    "K_{t+1} & = I_t^K + (1-\\delta)K_t, &H_0 \\\\\n",
    "H_{t+1} & = I_t^H + (1-\\delta)K_t, &K_0 \\\\\n",
    "L_{t+1} & = (1+n) L_t, &L_0 \\\\\n",
    "A_{t+1} & = (1+g) A_t, &A_0\n",
    "\\end{align}\n",
    "where $s_h + s_k < 1$.\n",
    "\n",
    "\n",
    "This is done to consider the more general case for the model as the Cobb-Douglas function is merely a special case of the CES function (that is, for $\\sigma \\to 1$ the CES production function corresponds to a Cobb-Douglas production function).\n",
    "\n",
    "**NB:** SymPy cannot solve the model analytically with the CES production function. Hence, the model will only be solved numerically in this section."
   ]
  },
  {
   "cell_type": "markdown",
   "metadata": {},
   "source": [
    "Firstly, we define the two transition equations used:\n",
    "\n",
    "\\begin{align}\n",
    "\\tilde k_{t+1} &= \\frac{1}{(1+n)(1+g)} \\left(\\left(s_K \\left(\\alpha \\tilde k_t^{\\frac{\\sigma-1}{\\sigma}} + \\varphi \\tilde h_t^{\\frac{\\sigma-1}{\\sigma}} + (1-\\alpha-\\varphi) \\right)\\right)^{\\frac{\\sigma}{\\sigma-1}}-(n+g+\\delta+ng)\\tilde k_t \\right) + \\tilde k_t \\\\\n",
    "\\tilde h_{t+1} &= \\frac{1}{(1+n)(1+g)} \\left(\\left(s_H \\left(\\alpha \\tilde k_t^{\\frac{\\sigma-1}{\\sigma}} + \\varphi \\tilde h_t^{\\frac{\\sigma-1}{\\sigma}} + (1-\\alpha-\\varphi) \\right)\\right)^{\\frac{\\sigma}{\\sigma-1}}-(n+g+\\delta+ng)\\tilde h_t \\right) + \\tilde h_t\n",
    "\\end{align}"
   ]
  },
  {
   "cell_type": "code",
   "execution_count": 9,
   "metadata": {},
   "outputs": [],
   "source": [
    "# Define transition equation for physical capital per effective worker\n",
    "def kt1(tilkt,tilht,sk=0.4,alpha=1/3,phi=1/3,sigma=1.5,n=0.02,g=0.02,delta=0.05):\n",
    "    return (1/((1+n)*(1+g)))*(sk*(alpha*tilkt**((sigma-1)/sigma)+phi*tilht**((sigma-1)/sigma)+(1-alpha-phi))**(sigma/(sigma-1))-(n+g+delta+n*g)*tilkt+tilkt)\n",
    "\n",
    "# Define transition equation for human capital per effective worker\n",
    "def ht1(tilkt,tilht,sh=0.2,alpha=1/3,phi=1/3,sigma=1.5,n=0.02,g=0.02,delta=0.05):\n",
    "    return (1/((1+n)*(1+g)))*(sh*(alpha*tilkt**((sigma-1)/sigma)+phi*tilht**((sigma-1)/sigma)+(1-alpha-phi))**(sigma/(sigma-1))-(n+g+delta+n*g)*tilht)+tilht"
   ]
  },
  {
   "cell_type": "code",
   "execution_count": null,
   "metadata": {},
   "outputs": [],
   "source": [
    "  # Initialize lists that will hold all the values of k_t and h_t, starting with k_0 and h_0\n",
    "        k0cd_list = [k0] \n",
    "        h0cd_list = [h0]\n",
    "        # Append k_1 and h_1 to their respective lists. They are calculated using the functions defined earlier, here hardreferencing to the initial values\n",
    "        k0cd_list.append(kt_plus1_func(k0cd_list[0],h0cd_list[0],alpha, n, g, sh, sk, delta, phi))\n",
    "        h0cd_list.append(ht_plus1_func(k0cd_list[0],h0cd_list[0],alpha, n, g, sh, sk, delta, phi))\n",
    "        i = 1 #initialize i for while loop\n",
    "        while i<10000: #while loops that calculates the next values...\n",
    "            if ((np.abs(h0cd_list[-1]-h0cd_list[-2])<0.00001) & (np.abs(k0cd_list[-1]-k0cd_list[-2])<0.00001)): #... unless the error margin has been reach\n",
    "                display(Latex('Convergence archieved!')) #Inform of convergence\n",
    "                result = create_cd_plot(k0cd_list,h0cd_list,alpha, n, g, sh, sk, delta, phi) # As convergence has been reached, create plot\n",
    "                break\n",
    "            elif i==9999: #if reached\n",
    "                result = display(Latex('No convergence archieved')) #Inform of no convergence :(\n",
    "                break \n",
    "            else: #If error margin not satisfied, append new values calculated using function and the last value of the lists, repeat while loop\n",
    "                k0cd_list.append(kt_plus1_func(k0cd_list[i],h0cd_list[i],alpha, n, g, sh, sk, delta, phi)) \n",
    "                h0cd_list.append(ht_plus1_func(k0cd_list[i],h0cd_list[i],alpha, n, g, sh, sk, delta, phi))\n",
    "                i += 1 #increase such that new values are used"
   ]
  },
  {
   "cell_type": "code",
   "execution_count": 18,
   "metadata": {},
   "outputs": [],
   "source": [
    "# Define interactive part\n",
    "def interact_CES(k0=10, h0=10,sk=0.2,sh=0.1,alpha=1/3,phi=1/3,sigma=1.5,n=0.02,g=0.02,delta=0.05):\n",
    "    ### Check if conditions are violated ###\n",
    "    # sum of savings rates and sum of income shares must not exceed 1\n",
    "    if sk + sh >= 1 and alpha + phi >=  1:\n",
    "        result = display(Latex(r'$\\alpha + \\varphi$ and $s_H + s_K$ has to be strictly less than $1$.')) #print warning\n",
    "    # sum of income shares must not exceed 1\n",
    "    elif alpha + phi >= 1:\n",
    "        result = display(Latex(r'$\\alpha + \\varphi$ has to be stricly less than $1$.')) #print warning\n",
    "    # sum of savings rates must not exceed 1\n",
    "    elif sk + sh >= 1:\n",
    "        result = display(Latex(r'$s_H+s_K$ have to be stricly less than $1$.')) #print warning\n",
    "    elif (n + g + delta) == 0: \n",
    "        result = display(Latex(r'$n+g+\\delta$ has to be greater than $0$. They have been reset to $n=g=\\delta=0.05$.')) #print warning\n",
    "    else:    \n",
    "        # Initialize lists that will hold all the values of k_t and h_t, starting with k_0 and h_0\n",
    "        k0ces_list = [k0]\n",
    "        h0ces_list = [h0]\n",
    "        # Append k_1 and h_1 to their respective lists. They are calculated using the functions defined earlier, here hardreferencing to the initial values\n",
    "        k0ces_list.append(kt1(k0ces_list[0],h0ces_list[0],sk,alpha,phi,sigma,n,g,delta))\n",
    "        h0ces_list.append(ht1(k0ces_list[0],h0ces_list[0],sh,alpha,phi,sigma,n,g,delta))\n",
    "        i = 1 #initialize i for while loop\n",
    "        while i<10000: #while loop that calculates the next values...\n",
    "            if ((np.abs(h0ces_list[-1]-h0ces_list[-2])<0.00001) & (np.abs(k0ces_list[-1]-k0ces_list[-2])<0.00001)): #... unless the error margin has been reached\n",
    "                display(Latex('Convergence archieved!')) #Inform of convergence\n",
    "                result = create_ces_plot(k0ces_list,h0ces_list) # As convergence has been reached, create plot\n",
    "                break\n",
    "            elif i==9999: #... unless the max iter has been reached\n",
    "                result = display(Latex('No convergence archieved')) #Inform of no converge :(\n",
    "                break\n",
    "            else: #If error margin not satisfied and max iter not reached, append new values calculated using function and the last value of the lists, repeat while loop\n",
    "                k0ces_list.append(kt1(k0ces_list[i],h0ces_list[i],sk,alpha,phi,sigma,n,g,delta))\n",
    "                h0ces_list.append(ht1(k0ces_list[i],h0ces_list[i],sh,alpha,phi,sigma,n,g,delta))\n",
    "                i += 1 #increase i for while loop\n",
    "    return result"
   ]
  },
  {
   "cell_type": "code",
   "execution_count": 19,
   "metadata": {},
   "outputs": [
    {
     "data": {
      "application/vnd.jupyter.widget-view+json": {
       "model_id": "d772a9f225ae4edeb8fc876cde87d043",
       "version_major": 2,
       "version_minor": 0
      },
      "text/plain": [
       "interactive(children=(FloatSlider(value=4.0, continuous_update=False, description='$k_0$', max=10.0, min=1.0, …"
      ]
     },
     "metadata": {},
     "output_type": "display_data"
    },
    {
     "data": {
      "text/plain": [
       "<function __main__.interact_CES(k0=10, h0=10, sk=0.2, sh=0.1, alpha=0.3333333333333333, phi=0.3333333333333333, sigma=1.5, n=0.02, g=0.02, delta=0.05)>"
      ]
     },
     "execution_count": 19,
     "metadata": {},
     "output_type": "execute_result"
    }
   ],
   "source": [
    "# Create plot of convergence to steady state\n",
    "def create_ces_plot(k0ces_list,h0ces_list):\n",
    "    ###Inputs: List of paths of k_t and h_t\n",
    "    fig,ax = plt.subplots() #create plot\n",
    "    plt.plot(k0ces_list,h0ces_list) #plot the lists of k_t and h_t\n",
    "    plt.plot(k0ces_list[-1],h0ces_list[-1], 'bo') #plot a point with the steady state values\n",
    "    #set limits, if the initial values are above steady state, choose these as those who guide the limits\n",
    "    #if the initial values are below steady state, choose steady state values to guide the limits (last element in list)\n",
    "    ax.set_xlim([0,max(k0ces_list[-1]*1.1,h0ces_list[-1]*1.1,k0ces_list[0]*1.1,h0ces_list[0]*1.1)])\n",
    "    ax.set_ylim([0,max(k0ces_list[-1]*1.1,h0ces_list[-1]*1.1,k0ces_list[0]*1.1,h0ces_list[0]*1.1)])\n",
    "    ax.set_title('Convergence in the Solow model with CES production function', pad=15) #Set title\n",
    "    ax.set_xlabel('$k_t$') #Set xlabel\n",
    "    ax.set_ylabel('$h_t$') #Set ylabel\n",
    "    return plt.show()\n",
    "\n",
    "\n",
    "#Let plot and sliders interact\n",
    "widgets.interact(interact_CES,   \n",
    "            k0    = widgets.FloatSlider(description='$k_0$', min=1, max=10,step=0.25,value=4,continuous_update=False),\n",
    "            h0    = widgets.FloatSlider(description='$h_0$', min=1, max=15,step=0.25,value=6,continuous_update=False),\n",
    "            sk    = widgets.FloatSlider(description='$s_K$', min=0.01, max=0.99,step=0.01,value=0.1,continuous_update=False),\n",
    "            sh    = widgets.FloatSlider(description='$s_H$', min=0.01, max=0.99,step=0.01,value=0.15,continuous_update=False),\n",
    "            alpha = widgets.FloatSlider(description='$\\\\alpha$', min=0.01, max=0.99,step=0.01,value=1/3,continuous_update=False),\n",
    "            phi   = widgets.FloatSlider(description='$\\\\varphi$', min=0.01, max=0.99,step=0.01,value=1/3,continuous_update=False),\n",
    "            sigma = widgets.FloatSlider(description='$\\sigma$', min=0, max=10,step=0.05,value=1.5,continuous_update=False),\n",
    "            n     = widgets.FloatSlider(description='$n$', min=-1, max=1,step=0.01,value=0.01,continuous_update=False),\n",
    "            g     = widgets.FloatSlider(description='$g$', min=-1, max=1,step=0.01,value=0.01,continuous_update=False),\n",
    "            delta = widgets.FloatSlider(description='$\\delta$', min=0, max=1,step=0.01,value=0.05,continuous_update=False)\n",
    "                )"
   ]
  }
 ],
 "metadata": {
  "kernelspec": {
   "display_name": "Python 3",
   "language": "python",
   "name": "python3"
  },
  "language_info": {
   "codemirror_mode": {
    "name": "ipython",
    "version": 3
   },
   "file_extension": ".py",
   "mimetype": "text/x-python",
   "name": "python",
   "nbconvert_exporter": "python",
   "pygments_lexer": "ipython3",
   "version": "3.6.8"
  },
  "toc": {
   "base_numbering": 1,
   "nav_menu": {},
   "number_sections": true,
   "sideBar": true,
   "skip_h1_title": false,
   "title_cell": "Table of Contents",
   "title_sidebar": "Contents",
   "toc_cell": false,
   "toc_position": {},
   "toc_section_display": true,
   "toc_window_display": false
  }
 },
 "nbformat": 4,
 "nbformat_minor": 2
}
